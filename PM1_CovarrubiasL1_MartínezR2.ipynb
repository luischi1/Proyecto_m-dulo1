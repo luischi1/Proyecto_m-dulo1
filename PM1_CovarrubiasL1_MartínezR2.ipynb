{
 "cells": [
  {
   "cell_type": "markdown",
   "metadata": {},
   "source": [
    "# Proyecto de Optimizción\n",
    "## ISR"
   ]
  },
  {
   "cell_type": "markdown",
   "metadata": {},
   "source": [
    "|Límite inferior|Límite superior|Cuota fija|% sobre excedente de límite inferior|\n",
    "|-----|-----|-----|-----|\n",
    "|0.01|6,942.20|0.00|1.92|\n",
    "6,942.21|58,922.16|133.28|6.40|\n",
    "|58,922.17|103,550.44|3,460.01|10.88|\n",
    "|103,550.45 | 120,372.83 | 8,315.57 | 16.00|\n",
    "|120,372.84|144,119.23|11,007.14|17.92|\n",
    "|144,119.24|290,667.75|15,262.49|21.36|\n",
    "|290,667.76|458,132.29|46,565.26|23.52|\n",
    "|458,132.30|874,650.00|85,952.92|30.00|\n",
    "|874,650.01|1,166,200.00|210,908.23|32.00|\n",
    "|1,166,200.01|3,498,600.00|304,204.21|34.00|\n",
    "|3,498,600.01|En adelante|1,097,220.21|35.00|"
   ]
  },
  {
   "cell_type": "code",
   "execution_count": 1,
   "metadata": {},
   "outputs": [
    {
     "ename": "NameError",
     "evalue": "name 'aa' is not defined",
     "output_type": "error",
     "traceback": [
      "\u001b[1;31m---------------------------------------------------------------------------\u001b[0m",
      "\u001b[1;31mNameError\u001b[0m                                 Traceback (most recent call last)",
      "\u001b[1;32m<ipython-input-1-312382290f4f>\u001b[0m in \u001b[0;36m<module>\u001b[1;34m\u001b[0m\n\u001b[1;32m----> 1\u001b[1;33m \u001b[0maa\u001b[0m\u001b[1;33m\u001b[0m\u001b[1;33m\u001b[0m\u001b[0m\n\u001b[0m",
      "\u001b[1;31mNameError\u001b[0m: name 'aa' is not defined"
     ]
    }
   ],
   "source": [
    "aa"
   ]
  }
 ],
 "metadata": {
  "kernelspec": {
   "display_name": "Python 3",
   "language": "python",
   "name": "python3"
  },
  "language_info": {
   "codemirror_mode": {
    "name": "ipython",
    "version": 3
   },
   "file_extension": ".py",
   "mimetype": "text/x-python",
   "name": "python",
   "nbconvert_exporter": "python",
   "pygments_lexer": "ipython3",
   "version": "3.7.3"
  }
 },
 "nbformat": 4,
 "nbformat_minor": 2
}
