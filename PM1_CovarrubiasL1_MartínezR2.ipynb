{
 "cells": [
  {
   "cell_type": "markdown",
   "metadata": {},
   "source": [
    "# Proyecto de Optimizción\n",
    "## ISR"
   ]
  },
  {
   "cell_type": "markdown",
   "metadata": {},
   "source": [
    "|Límite inferior|Límite superior|Cuota fija|% sobre excedente de límite inferior|\n",
    "|-----|-----|-----|-----|\n",
    "|0.01|6,942.20|0.00|1.92|\n",
    "6,942.21|58,922.16|133.28|6.40|\n",
    "|58,922.17|103,550.44|3,460.01|10.88|\n",
    "|103,550.45 | 120,372.83 | 8,315.57 | 16.00|\n",
    "|120,372.84|144,119.23|11,007.14|17.92|\n",
    "|144,119.24|290,667.75|15,262.49|21.36|\n",
    "|290,667.76|458,132.29|46,565.26|23.52|\n",
    "|458,132.30|874,650.00|85,952.92|30.00|\n",
    "|874,650.01|1,166,200.00|210,908.23|32.00|\n",
    "|1,166,200.01|3,498,600.00|304,204.21|34.00|\n",
    "|3,498,600.01|En adelante|1,097,220.21|35.00|"
   ]
  },
  {
   "cell_type": "markdown",
   "metadata": {},
   "source": [
    "**Se tienen $1,000,000 para invertir en distintos instrumentos financieros.**\n",
    "\n",
    "La cantidad a invertir de cada instrumento debe de ser menor o igual al 20% del total invertido para diversificar el riesgo.\n",
    "\n",
    "La cantidad a invertir de los instrumentos que pagan arriba del 10% anual, debe de ser menor o igual al 50% del total invertido para evitar pagar mas del 10.88% de ISR (Impuesto Sobre la Renta).\n",
    "\n",
    "La cantidad a invertir de los instrumentos a corto plazo tiene que ser mayor o igual a 30% y la cantidad a invertir de los instrumentos largo plazo tiene que ser igual al 25%"
   ]
  },
  {
   "cell_type": "markdown",
   "metadata": {},
   "source": [
    "|numero|Tipo|Plazo|Rendimiento anual|\n",
    "|-----|-----|-----|-----|\n",
    "|1|Cete|corto|7.1%|\n",
    "|2|Bono|mediano|6.65%|\n",
    "|3|Bancario|mediano|7.43%|\n",
    "|4|Fondo privado|largo|15.2%|\n",
    "|5|Bono Argentino|corto|23.3%|"
   ]
  },
  {
   "cell_type": "code",
   "execution_count": 4,
   "metadata": {},
   "outputs": [],
   "source": [
    "import scipy.optimize as opt\n",
    "import numpy as np"
   ]
  },
  {
   "cell_type": "code",
   "execution_count": 6,
   "metadata": {},
   "outputs": [],
   "source": [
    "c = -np.array([.071,0.0665,0.0743,0.152,0.233])\n",
    "\n",
    "A_ub = np.array([[1,0,0,0,0],[-1,0,0,0,-1],[0,0,0,1,1]])\n",
    "b_ub = np.array([.2*1000000,.3*1000000,.5*1000000])\n",
    "\n",
    "A_eq = np.array([[0,0,0,1,1]])\n",
    "b_eq = np.array([.25*1000000])\n",
    "\n",
    "bounds = (0,200000)"
   ]
  },
  {
   "cell_type": "code",
   "execution_count": 8,
   "metadata": {},
   "outputs": [
    {
     "data": {
      "text/plain": [
       "     con: array([0.])\n",
       "     fun: -96560.0\n",
       " message: 'Optimization terminated successfully.'\n",
       "     nit: 6\n",
       "   slack: array([     0., 700000., 250000.])\n",
       "  status: 0\n",
       " success: True\n",
       "       x: array([200000., 200000., 200000.,  50000., 200000.])"
      ]
     },
     "execution_count": 8,
     "metadata": {},
     "output_type": "execute_result"
    }
   ],
   "source": [
    "solucion = opt.linprog(c,A_ub,b_ub,A_eq,b_eq,bounds)\n",
    "solucion"
   ]
  }
 ],
 "metadata": {
  "kernelspec": {
   "display_name": "Python 3",
   "language": "python",
   "name": "python3"
  },
  "language_info": {
   "codemirror_mode": {
    "name": "ipython",
    "version": 3
   },
   "file_extension": ".py",
   "mimetype": "text/x-python",
   "name": "python",
   "nbconvert_exporter": "python",
   "pygments_lexer": "ipython3",
   "version": "3.7.3"
  }
 },
 "nbformat": 4,
 "nbformat_minor": 2
}
