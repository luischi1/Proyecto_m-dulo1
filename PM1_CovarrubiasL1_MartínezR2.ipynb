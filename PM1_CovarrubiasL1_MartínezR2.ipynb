{
 "cells": [
  {
   "cell_type": "markdown",
   "metadata": {},
   "source": [
    "# Proyecto Módulo 1\n",
    "# Inversión en instrumentos financieros\n"
   ]
  },
  {
   "cell_type": "markdown",
   "metadata": {},
   "source": [
    "## Simulación Matemática\n",
    "(Grupo martes - viernes)"
   ]
  },
  {
   "cell_type": "markdown",
   "metadata": {},
   "source": [
    "Por:\n",
    "\n",
    "Rodrigo Martínez Gallardo Bertoldi if722268\n",
    "\n",
    "Luis Guillermo Covarrubias Chi nt709142\n",
    "\n",
    "1 de octubre de 2019\n",
    "\n",
    "Profesor: Cristian Camilo Zapata Zuluaga\n"
   ]
  },
  {
   "cell_type": "markdown",
   "metadata": {},
   "source": [
    "## Objetivos"
   ]
  },
  {
   "cell_type": "markdown",
   "metadata": {},
   "source": [
    "### Objetivo General\n",
    "### Objetivos específicos "
   ]
  },
  {
   "cell_type": "markdown",
   "metadata": {},
   "source": []
  },
  {
   "cell_type": "markdown",
   "metadata": {},
   "source": [
    "|Límite inferior|Límite superior|Cuota fija|% sobre excedente de límite inferior|\n",
    "|-----|-----|-----|-----|\n",
    "|0.01|6,942.20|0.00|1.92|\n",
    "6,942.21|58,922.16|133.28|6.40|\n",
    "|58,922.17|103,550.44|3,460.01|10.88|\n",
    "|103,550.45 | 120,372.83 | 8,315.57 | 16.00|\n",
    "|120,372.84|144,119.23|11,007.14|17.92|\n",
    "|144,119.24|290,667.75|15,262.49|21.36|\n",
    "|290,667.76|458,132.29|46,565.26|23.52|\n",
    "|458,132.30|874,650.00|85,952.92|30.00|\n",
    "|874,650.01|1,166,200.00|210,908.23|32.00|\n",
    "|1,166,200.01|3,498,600.00|304,204.21|34.00|\n",
    "|3,498,600.01|En adelante|1,097,220.21|35.00|"
   ]
  },
  {
   "cell_type": "markdown",
   "metadata": {},
   "source": [
    "**Se tienen $1,000,000 para invertir en distintos instrumentos financieros.**\n",
    "\n",
    "La cantidad a invertir de cada instrumento debe de ser menor o igual al 20% del total invertido para diversificar el riesgo.\n",
    "\n",
    "La cantidad a invertir de los instrumentos que pagan arriba del 10% anual, debe de ser menor o igual al 50% del total invertido para evitar pagar mas del 10.88% de ISR (Impuesto Sobre la Renta).\n",
    "\n",
    "La cantidad a invertir de los instrumentos a corto plazo tiene que ser mayor o igual a 30% y la cantidad a invertir de los instrumentos largo plazo tiene que ser igual al 25%"
   ]
  },
  {
   "cell_type": "markdown",
   "metadata": {},
   "source": [
    "|numero|Tipo|Plazo|Rendimiento anual|\n",
    "|-----|-----|-----|-----|\n",
    "|1|Cete|corto|7.1%|\n",
    "|2|Bono|mediano|6.65%|\n",
    "|3|Bancario|mediano|7.43%|\n",
    "|4|Fondo privado|largo|15.2%|\n",
    "|5|Bono Argentino|corto|23.3%|"
   ]
  },
  {
   "cell_type": "markdown",
   "metadata": {},
   "source": [
    "Con respecto a  los tipos de instrumentos financieros, obtenemos que cada uno es:\n",
    "\n",
    "$x_1=Cete$\n",
    "\n",
    "$x_2=Bono$\n",
    "\n",
    "$x_3=Bancario$\n",
    "\n",
    "$x_4=Fondo privado$\n",
    "\n",
    "$x_5=Bono Argentino$\n"
   ]
  },
  {
   "cell_type": "markdown",
   "metadata": {},
   "source": [
    " **Se toma en cuenta los enunciados para poder definir las restricciones para la optmización, quedando de la siguiente manera:**"
   ]
  },
  {
   "cell_type": "markdown",
   "metadata": {},
   "source": [
    "\"La cantidad a invertir debe de ser menor o igual al 20% del total invertido para diversificar el riesgo\"\n",
    "\n",
    "- $x_1 \\leq 0.20(1,000,000)$"
   ]
  },
  {
   "cell_type": "markdown",
   "metadata": {},
   "source": [
    "\"La cantidad a invertir de los instrumentos a corto plazo tiene que ser mayor o igual a 30%\"\n",
    "\n",
    "- $x_1+x_5 \\geq 0.30(1,000,000)$\n",
    "\n",
    "Pero para poder utilizarse, se tendrá que convertir el $\\geq$ a $\\leq$, por lo tanto...\n",
    "\n",
    "- $-x_1+-x_5\\leq -0.30(1,000,000)$"
   ]
  },
  {
   "cell_type": "markdown",
   "metadata": {},
   "source": [
    "\"La cantidad a invertir de los instrumentos que pagan arriba del 10% anual, debe de ser menor o igual al 50% del total invertido\"\n",
    "\n",
    "- $x_4+x_5 \\leq 0.50(1,000,000)$\n",
    "\n"
   ]
  },
  {
   "cell_type": "markdown",
   "metadata": {},
   "source": [
    "\"La cantidad a invertir de los instrumentos largo plazo tiene que ser igual al 25%\"\n",
    "\n",
    "- $x_4=0.25(1,000,000)$"
   ]
  },
  {
   "cell_type": "markdown",
   "metadata": {},
   "source": [
    "La función objetivo, definida por los datos dados,será:\n",
    "\n",
    "$$0.071x_1+0.0665x_2+0.0743x_3+0.152x_4+0.233x_5$$"
   ]
  },
  {
   "cell_type": "code",
   "execution_count": 12,
   "metadata": {},
   "outputs": [],
   "source": [
    "#Se importan las librerías que necesitaremos\n",
    "import scipy.optimize as opt\n",
    "import numpy as np"
   ]
  },
  {
   "cell_type": "code",
   "execution_count": 37,
   "metadata": {},
   "outputs": [],
   "source": [
    "c = -np.array([.071,0.0665,0.0743,0.152,0.233])\n",
    "\n",
    "A_ub = np.array([[1,0,0,0,0],[-1,0,0,0,-1],[0,0,0,1,1]])\n",
    "b_ub = np.array([.2*1000000,-.3*1000000,.5*1000000])\n",
    "\n",
    "A_eq = np.array([[0,0,0,1,1]])\n",
    "b_eq = np.array([.25*1000000])\n",
    "\n",
    "bounds = (0,200000)"
   ]
  },
  {
   "cell_type": "code",
   "execution_count": 38,
   "metadata": {},
   "outputs": [
    {
     "data": {
      "text/plain": [
       "     fun: -96560.0\n",
       " message: 'Optimization terminated successfully.'\n",
       "     nit: 6\n",
       "   slack: array([     0., 250000.,      0.,      0.,      0., 150000.,      0.,\n",
       "            0.])\n",
       "  status: 0\n",
       " success: True\n",
       "       x: array([200000., 200000., 200000.,  50000., 200000.])"
      ]
     },
     "execution_count": 38,
     "metadata": {},
     "output_type": "execute_result"
    }
   ],
   "source": [
    "solucion = opt.linprog(c,A_ub,b_ub,A_eq,b_eq,bounds)\n",
    "solucion"
   ]
  },
  {
   "cell_type": "markdown",
   "metadata": {},
   "source": [
    "Por lo tanto, las cantidades que se deben invertir en cada instrumento, tomando en cuenta las restricciones, para obtener el mayor número de rendimiento posible, son:\n",
    "\n",
    "- $x_1= \\$200,000$\n",
    "- $x_2= \\$200,000$\n",
    "- $x_3= \\$200,000$\n",
    "- $x_4= \\$50,000$\n",
    "- $x_5= \\$200,000$\n",
    "\n",
    "Y el mayor rendimiento anual que se obtendrá será de $ \\$96,560 $"
   ]
  },
  {
   "cell_type": "code",
   "execution_count": null,
   "metadata": {},
   "outputs": [],
   "source": []
  }
 ],
 "metadata": {
  "kernelspec": {
   "display_name": "Python 3",
   "language": "python",
   "name": "python3"
  },
  "language_info": {
   "codemirror_mode": {
    "name": "ipython",
    "version": 3
   },
   "file_extension": ".py",
   "mimetype": "text/x-python",
   "name": "python",
   "nbconvert_exporter": "python",
   "pygments_lexer": "ipython3",
   "version": "3.7.1"
  }
 },
 "nbformat": 4,
 "nbformat_minor": 2
}
